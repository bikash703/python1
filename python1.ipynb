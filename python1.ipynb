{
 "cells": [
  {
   "cell_type": "code",
   "execution_count": 1,
   "id": "804f2141",
   "metadata": {},
   "outputs": [
    {
     "name": "stdout",
     "output_type": "stream",
     "text": [
      "current Letter : p\n",
      "current Letter : y\n",
      "current Letter : t\n"
     ]
    }
   ],
   "source": [
    "for letter in 'python':\n",
    "    if letter == 'h':\n",
    "        break\n",
    "    print(\"current Letter :\",letter)\n",
    "        "
   ]
  },
  {
   "cell_type": "code",
   "execution_count": 2,
   "id": "0dbc6216",
   "metadata": {},
   "outputs": [
    {
     "name": "stdout",
     "output_type": "stream",
     "text": [
      "Current variable is : 10\n",
      "Current variable is : 9\n",
      "Current variable is : 8\n",
      "Current variable is : 7\n",
      "Current variable is : 6\n",
      "Good Bye!\n"
     ]
    }
   ],
   "source": [
    "var=10\n",
    "while( var>0):\n",
    "    print(\"Current variable is :\",var)\n",
    "    var=var-1\n",
    "    if(var==5):\n",
    "        break\n",
    "print('Good Bye!')"
   ]
  },
  {
   "cell_type": "code",
   "execution_count": 3,
   "id": "fcbb432e",
   "metadata": {},
   "outputs": [
    {
     "name": "stdout",
     "output_type": "stream",
     "text": [
      "Current Letter : p\n",
      "Current Letter : y\n",
      "Current Letter : t\n",
      "Current Letter : o\n",
      "Current Letter : n\n"
     ]
    }
   ],
   "source": [
    "for letter in 'python':\n",
    "    if letter == 'h':\n",
    "        continue\n",
    "    print('Current Letter :',letter)"
   ]
  },
  {
   "cell_type": "code",
   "execution_count": 4,
   "id": "27e8206f",
   "metadata": {},
   "outputs": [
    {
     "name": "stdout",
     "output_type": "stream",
     "text": [
      "Current Variable Value is : 9\n",
      "Current Variable Value is : 8\n",
      "Current Variable Value is : 7\n",
      "Current Variable Value is : 6\n",
      "Current Variable Value is : 4\n",
      "Current Variable Value is : 3\n",
      "Current Variable Value is : 2\n",
      "Current Variable Value is : 1\n",
      "Current Variable Value is : 0\n",
      "Good Bye!\n"
     ]
    }
   ],
   "source": [
    "var=10\n",
    "while var>0:\n",
    "    var=var-1\n",
    "    if var ==5:\n",
    "        continue\n",
    "    print('Current Variable Value is :',var)\n",
    "print('Good Bye!')"
   ]
  },
  {
   "cell_type": "code",
   "execution_count": 5,
   "id": "d4c550d2",
   "metadata": {},
   "outputs": [
    {
     "name": "stdout",
     "output_type": "stream",
     "text": [
      "0.060624390155325836\n",
      "3\n",
      "499\n"
     ]
    }
   ],
   "source": [
    "import random\n",
    "r1=random.random() #Give us a Random Number from [0.0,1.0]\n",
    "print(r1)\n",
    "r2=random.choice([1,2,3,4,5]) #Gives us a random choice from a list\n",
    "print(r2)\n",
    "r3=random.randint(1,1000) #Gives us a random Number in this range\n",
    "print(r3)\n"
   ]
  },
  {
   "cell_type": "code",
   "execution_count": 6,
   "id": "d10f84c5",
   "metadata": {},
   "outputs": [
    {
     "data": {
      "text/plain": [
       "{'Bikash': 'Majhi', 'Jitendra': 'Rout', 'Lingaraj': 'singh', 'Bijay': 'Kumar'}"
      ]
     },
     "execution_count": 6,
     "metadata": {},
     "output_type": "execute_result"
    }
   ],
   "source": [
    "slang={}\n",
    "slang['Bikash']='Majhi'\n",
    "slang['Jitendra']='Rout'\n",
    "slang['Lingaraj']='singh'\n",
    "slang['Bijay']='Kumar'\n",
    "slang"
   ]
  },
  {
   "cell_type": "code",
   "execution_count": 7,
   "id": "8c3a9620",
   "metadata": {},
   "outputs": [
    {
     "name": "stdout",
     "output_type": "stream",
     "text": [
      "('Bikash', 'Majhi')\n",
      "('Jitendra', 'Rout')\n",
      "('Lingaraj', 'singh')\n",
      "('Bijay', 'Kumar')\n"
     ]
    }
   ],
   "source": [
    "for item in slang.items():\n",
    "    print(item)"
   ]
  },
  {
   "cell_type": "code",
   "execution_count": 8,
   "id": "8acbe0fd",
   "metadata": {},
   "outputs": [
    {
     "name": "stdout",
     "output_type": "stream",
     "text": [
      "Bikash Majhi\n",
      "Jitendra Rout\n",
      "Lingaraj singh\n",
      "Bijay Kumar\n"
     ]
    }
   ],
   "source": [
    "for keys,value in slang.items():\n",
    "    print(keys,value)"
   ]
  },
  {
   "cell_type": "code",
   "execution_count": 9,
   "id": "7e4b992e",
   "metadata": {},
   "outputs": [
    {
     "name": "stdout",
     "output_type": "stream",
     "text": [
      "B M\n",
      "J R\n",
      "L s\n",
      "B K\n"
     ]
    }
   ],
   "source": [
    "for keys,value in slang.items():\n",
    "    print(keys[0],value[0])"
   ]
  },
  {
   "cell_type": "code",
   "execution_count": 10,
   "id": "869d9725",
   "metadata": {},
   "outputs": [
    {
     "data": {
      "text/plain": [
       "'Hello World Bikash'"
      ]
     },
     "execution_count": 10,
     "metadata": {},
     "output_type": "execute_result"
    }
   ],
   "source": [
    "s1=\"Hello\"\n",
    "s2=' World'\n",
    "s1=s1+s2 #In this case s1 adding two string and contain a new string\n",
    "s1=s1+' Bikash'\n",
    "s1"
   ]
  },
  {
   "cell_type": "code",
   "execution_count": 11,
   "id": "f7313264",
   "metadata": {},
   "outputs": [
    {
     "name": "stdout",
     "output_type": "stream",
     "text": [
      "avg 50\n",
      "total 12.5\n",
      "25\n"
     ]
    }
   ],
   "source": [
    "def average(numbers,lst):\n",
    "    total=0\n",
    "    for num in numbers:\n",
    "        total=total+num\n",
    "    avg=total/len(lst)\n",
    "    return avg,total  #it return in order type value(12.5,50)\n",
    "\n",
    "def test():\n",
    "    price=[20,30]\n",
    "    prices=[200,300,400,500]\n",
    "    total1, avg1=average(price,prices) #hence in order then it store(avg=total1 and total=avg1 )\n",
    "    print('avg',avg1)\n",
    "    print('total',total1)\n",
    "order_goal=25\n",
    "test()\n",
    "print(order_goal)\n"
   ]
  },
  {
   "cell_type": "code",
   "execution_count": 1,
   "id": "3019f8e0",
   "metadata": {},
   "outputs": [],
   "source": [
    "with open('Bikash.txt','w') as f:\n",
    "    f.write('I am bikash majhi\\nhe is a\\ngood boy')"
   ]
  },
  {
   "cell_type": "code",
   "execution_count": 4,
   "id": "6d6d04fe",
   "metadata": {},
   "outputs": [
    {
     "name": "stdout",
     "output_type": "stream",
     "text": [
      "I am bikash majhi\n",
      "\n",
      "he is a\n",
      "\n",
      "good boy\n",
      "Number of Lines is 3\n"
     ]
    }
   ],
   "source": [
    "fhand=open('Bikash.txt','r')\n",
    "count=0\n",
    "for line in fhand:\n",
    "    count=count+1\n",
    "    print(line)\n",
    "print('Number of Lines is',count)"
   ]
  },
  {
   "cell_type": "code",
   "execution_count": 6,
   "id": "7d9eb3e8",
   "metadata": {},
   "outputs": [
    {
     "name": "stdout",
     "output_type": "stream",
     "text": [
      "C:\\Users\\NABA KUMAR ROUT\\Desktop\\Jupyter\n"
     ]
    }
   ],
   "source": [
    "import os\n",
    "print(os.getcwd())"
   ]
  },
  {
   "cell_type": "code",
   "execution_count": 13,
   "id": "ba4a66da",
   "metadata": {},
   "outputs": [
    {
     "name": "stdout",
     "output_type": "stream",
     "text": [
      "Enter the file name :Bikash.txt\n",
      "count 4\n"
     ]
    }
   ],
   "source": [
    "fname=input('Enter the file name :')\n",
    "fname1=open(fname)\n",
    "count=0\n",
    "for line in fname1:\n",
    "    count=count+1\n",
    "#     print(line)\n",
    "    if line.startswith('I'):\n",
    "        count=count+1\n",
    "print('count',count)"
   ]
  },
  {
   "cell_type": "code",
   "execution_count": 16,
   "id": "6c67a4c1",
   "metadata": {},
   "outputs": [
    {
     "name": "stdout",
     "output_type": "stream",
     "text": [
      "Enter the file Namebikasj.txt\n",
      "File does not Exist: bikasj.txt\n",
      "count 0\n"
     ]
    }
   ],
   "source": [
    "fname=input('Enter the file Name')\n",
    "try:\n",
    "    fname2=open(fname)  #if file name is valid(saved in your computer folder) then it store in fname2. else- it except\n",
    "except:\n",
    "    print('File does not Exist:',fname)\n",
    "count=0\n",
    "for line in fname2:\n",
    "    count+=1\n",
    "    print(line)\n",
    "print('count',count)"
   ]
  },
  {
   "cell_type": "code",
   "execution_count": null,
   "id": "dfb439eb",
   "metadata": {},
   "outputs": [],
   "source": []
  },
  {
   "cell_type": "code",
   "execution_count": null,
   "id": "0e8c5b81",
   "metadata": {},
   "outputs": [],
   "source": []
  },
  {
   "cell_type": "code",
   "execution_count": null,
   "id": "91e88073",
   "metadata": {},
   "outputs": [],
   "source": []
  }
 ],
 "metadata": {
  "kernelspec": {
   "display_name": "Python 3 (ipykernel)",
   "language": "python",
   "name": "python3"
  },
  "language_info": {
   "codemirror_mode": {
    "name": "ipython",
    "version": 3
   },
   "file_extension": ".py",
   "mimetype": "text/x-python",
   "name": "python",
   "nbconvert_exporter": "python",
   "pygments_lexer": "ipython3",
   "version": "3.9.7"
  }
 },
 "nbformat": 4,
 "nbformat_minor": 5
}
