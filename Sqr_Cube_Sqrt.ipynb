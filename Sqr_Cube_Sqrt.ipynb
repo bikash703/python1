{
 "cells": [
  {
   "cell_type": "code",
   "execution_count": 1,
   "id": "9a6fa7ab",
   "metadata": {},
   "outputs": [
    {
     "name": "stdout",
     "output_type": "stream",
     "text": [
      "Enter a Number4\n",
      "Square Value of This Number is  16\n",
      "cube Value of This Number is  64\n",
      "SquareRoot Value of This Number is  2.0\n"
     ]
    }
   ],
   "source": [
    "import math\n",
    "\n",
    "def Square(n):\n",
    "    print('Square Value of This Number is ', pow(n,2))\n",
    "\n",
    "def Cube(n):\n",
    "    print('cube Value of This Number is ', pow(n,3))\n",
    "\n",
    "def SquareRoot(n):\n",
    "    print('SquareRoot Value of This Number is ', math.sqrt(n))\n",
    "\n",
    "n=int(input('Enter a Number'))\n",
    "\n",
    "Square(n)\n",
    "Cube(n)\n",
    "SquareRoot(n)\n",
    "\n",
    "    \n",
    "    \n",
    "\n"
   ]
  },
  {
   "cell_type": "code",
   "execution_count": 2,
   "id": "5ec40110",
   "metadata": {},
   "outputs": [],
   "source": [
    "#using constructer below the program "
   ]
  },
  {
   "cell_type": "code",
   "execution_count": 9,
   "id": "ebb2bada",
   "metadata": {},
   "outputs": [
    {
     "name": "stdout",
     "output_type": "stream",
     "text": [
      "Enter a Number5\n",
      "Square Value of This Number is  25\n",
      "cube Value of This Number is  125\n",
      "SquareRoot Value of This Number is  2.23606797749979\n"
     ]
    }
   ],
   "source": [
    "import math\n",
    "\n",
    "class calculator:\n",
    "    def __init__(self, n):\n",
    "        self.n = n\n",
    "    \n",
    "    def Square(self):\n",
    "        print('Square Value of This Number is ', pow((self.n),2))\n",
    "\n",
    "    def Cube(self):\n",
    "        print('cube Value of This Number is ', pow((self.n),3))\n",
    "\n",
    "    def SquareRoot(self):\n",
    "        print('SquareRoot Value of This Number is ', math.sqrt(self.n))\n",
    "              \n",
    "n=int(input('Enter a Number'))\n",
    "    \n",
    "c=calculator(n)\n",
    "c.Square()\n",
    "c.Cube()\n",
    "c.SquareRoot()\n",
    "        \n",
    "              \n",
    "              "
   ]
  }
 ],
 "metadata": {
  "kernelspec": {
   "display_name": "Python 3 (ipykernel)",
   "language": "python",
   "name": "python3"
  },
  "language_info": {
   "codemirror_mode": {
    "name": "ipython",
    "version": 3
   },
   "file_extension": ".py",
   "mimetype": "text/x-python",
   "name": "python",
   "nbconvert_exporter": "python",
   "pygments_lexer": "ipython3",
   "version": "3.9.7"
  }
 },
 "nbformat": 4,
 "nbformat_minor": 5
}
