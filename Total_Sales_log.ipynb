{
 "cells": [
  {
   "cell_type": "code",
   "execution_count": 1,
   "id": "46cf6be9",
   "metadata": {},
   "outputs": [],
   "source": [
    "def write_sales_log(order):\n",
    "    file = open('sales.txt','w')\n",
    "    \n",
    "    total=0\n",
    "    for item, price in order.items():\n",
    "#         file.write(item + ' ' + format(price, '.2f') + '\\n')\n",
    "        file.write(item + ' ' + format(price) + '\\n')\n",
    "        total +=price\n",
    "    file.write('total =' + format (total, '.2f') + '\\n')\n",
    "    file.close()\n",
    "    "
   ]
  },
  {
   "cell_type": "code",
   "execution_count": 2,
   "id": "90138c64",
   "metadata": {},
   "outputs": [],
   "source": [
    "def main():\n",
    "    order ={'cheeky spam': 1.0, 'Yonks Spam': 4.0}\n",
    "    write_sales_log(order)\n",
    "    order ={'cheerio spam': 1.0, 'Smashing Spam': 3.0}\n",
    "    write_sales_log(order)\n",
    "main()\n",
    "    "
   ]
  },
  {
   "cell_type": "code",
   "execution_count": null,
   "id": "a5a7c154",
   "metadata": {},
   "outputs": [],
   "source": []
  }
 ],
 "metadata": {
  "kernelspec": {
   "display_name": "Python 3 (ipykernel)",
   "language": "python",
   "name": "python3"
  },
  "language_info": {
   "codemirror_mode": {
    "name": "ipython",
    "version": 3
   },
   "file_extension": ".py",
   "mimetype": "text/x-python",
   "name": "python",
   "nbconvert_exporter": "python",
   "pygments_lexer": "ipython3",
   "version": "3.9.7"
  }
 },
 "nbformat": 4,
 "nbformat_minor": 5
}
