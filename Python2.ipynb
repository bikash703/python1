{
 "cells": [
  {
   "cell_type": "code",
   "execution_count": 1,
   "id": "1f9aa66d",
   "metadata": {},
   "outputs": [
    {
     "name": "stdout",
     "output_type": "stream",
     "text": [
      "The name of Passanger is Bikash\n",
      "The Availabe seats are 10\n",
      "The Value of the Ticket is Rs.90\n",
      "Your Ticked is Successful Buyed\n",
      "The Available Seats are 9\n",
      "Your Ticked is Successful Buyed\n",
      "The Available Seats are 8\n",
      "Your Ticked is Successful Buyed\n",
      "The Available Seats are 7\n"
     ]
    }
   ],
   "source": [
    "class train:\n",
    "    def __init__(self,name,fare,seats):\n",
    "        self.name=name\n",
    "        self.fare=fare\n",
    "        self.seats=seats\n",
    "    \n",
    "    def getinfo(self):\n",
    "        print(f'The name of Passanger is {self.name}')\n",
    "        print(f'The Availabe seats are {self.seats}')\n",
    "    \n",
    "    def fareinfo(self):\n",
    "        print(f'The Value of the Ticket is Rs.{self.fare}')\n",
    "    \n",
    "    def getStatus(self):\n",
    "        print(f\"Your Ticked is Successful Buyed\")\n",
    "        self.seats=self.seats-1\n",
    "        print(f'The Available Seats are {self.seats}')\n",
    "\n",
    "t=train('Bikash',90,10)\n",
    "t.getinfo()\n",
    "t.fareinfo()\n",
    "t.getStatus()\n",
    "t.getStatus()\n",
    "t.getStatus()\n",
    "\n"
   ]
  },
  {
   "cell_type": "code",
   "execution_count": 2,
   "id": "4a20527c",
   "metadata": {},
   "outputs": [
    {
     "name": "stdout",
     "output_type": "stream",
     "text": [
      "I am Breathing\n",
      "Programmer have no salary\n",
      "Google\n",
      "Bikash\n",
      "The salary of Employee is 25000\n"
     ]
    }
   ],
   "source": [
    "class person():\n",
    "    country='india'\n",
    "    \n",
    "    def takebreath(self):\n",
    "        print(\"I am Breathing\")\n",
    "    \n",
    "class employee(person):\n",
    "    name='Bikash'\n",
    "    salary=25000\n",
    "    \n",
    "    def getsalary(self):\n",
    "        print(f'The salary of Employee is {self.salary}')\n",
    "\n",
    "class programmer(employee):\n",
    "    company='Google'\n",
    "    \n",
    "    def getsalary(self):\n",
    "        print('Programmer have no salary')\n",
    "\n",
    "p=person()\n",
    "e=employee()\n",
    "pr=programmer()\n",
    "p.takebreath()\n",
    "pr.getsalary()\n",
    "print(pr.company)\n",
    "print(e.name)\n",
    "e.getsalary()"
   ]
  },
  {
   "cell_type": "code",
   "execution_count": 3,
   "id": "30a897fb",
   "metadata": {},
   "outputs": [],
   "source": [
    "# f=open('bikash.txt')\n",
    "# g=f.read()\n",
    "\n",
    "# f1=open('Rakesh.txt','w')\n",
    "# g1=f1.write('I am Rakesh Majhi')\n",
    "# print(g1)"
   ]
  },
  {
   "cell_type": "code",
   "execution_count": 8,
   "id": "3d67e405",
   "metadata": {},
   "outputs": [],
   "source": [
    "with open('bikash.txt') as f:\n",
    "    f1=f.read()\n",
    "\n",
    "with open('bikash.txt','w') as f:\n",
    "    f.write('')"
   ]
  }
 ],
 "metadata": {
  "kernelspec": {
   "display_name": "Python 3 (ipykernel)",
   "language": "python",
   "name": "python3"
  },
  "language_info": {
   "codemirror_mode": {
    "name": "ipython",
    "version": 3
   },
   "file_extension": ".py",
   "mimetype": "text/x-python",
   "name": "python",
   "nbconvert_exporter": "python",
   "pygments_lexer": "ipython3",
   "version": "3.9.7"
  }
 },
 "nbformat": 4,
 "nbformat_minor": 5
}
